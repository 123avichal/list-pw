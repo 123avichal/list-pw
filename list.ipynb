{
 "cells": [
  {
   "cell_type": "code",
   "execution_count": 18,
   "id": "694ac8fc-e627-402f-8d6b-129c80dabfe9",
   "metadata": {},
   "outputs": [],
   "source": [
    "#Q1\n",
    "l =[]"
   ]
  },
  {
   "cell_type": "code",
   "execution_count": 19,
   "id": "cfe136b1-10b7-449d-a833-3e0afe868adb",
   "metadata": {},
   "outputs": [],
   "source": [
    "#Q2\n",
    "l =[1,2,3,4,5]"
   ]
  },
  {
   "cell_type": "code",
   "execution_count": 20,
   "id": "53106e2f-4582-4ff6-a24d-896b72069125",
   "metadata": {},
   "outputs": [
    {
     "data": {
      "text/plain": [
       "5"
      ]
     },
     "execution_count": 20,
     "metadata": {},
     "output_type": "execute_result"
    }
   ],
   "source": [
    "#Q3\n",
    "l[4]"
   ]
  },
  {
   "cell_type": "code",
   "execution_count": 21,
   "id": "c6469cc3-98c0-4771-9881-0573294566e9",
   "metadata": {},
   "outputs": [
    {
     "data": {
      "text/plain": [
       "[5, 4, 3, 2, 1]"
      ]
     },
     "execution_count": 21,
     "metadata": {},
     "output_type": "execute_result"
    }
   ],
   "source": [
    "#Q4\n",
    "l[::-1]"
   ]
  },
  {
   "cell_type": "code",
   "execution_count": 30,
   "id": "ae13afeb-adb9-429c-897a-70ed277f87c3",
   "metadata": {},
   "outputs": [],
   "source": [
    "#Q5\n",
    "l1= [5,4,3,2,1]"
   ]
  },
  {
   "cell_type": "code",
   "execution_count": 31,
   "id": "f3bf9dd7-10c1-44d0-a039-2db8951a6832",
   "metadata": {},
   "outputs": [],
   "source": [
    "l1.sort()"
   ]
  },
  {
   "cell_type": "code",
   "execution_count": 32,
   "id": "394e3b41-d466-4ef3-839c-cebc6266fe73",
   "metadata": {},
   "outputs": [
    {
     "data": {
      "text/plain": [
       "[1, 2, 3, 4, 5]"
      ]
     },
     "execution_count": 32,
     "metadata": {},
     "output_type": "execute_result"
    }
   ],
   "source": [
    "l1"
   ]
  },
  {
   "cell_type": "code",
   "execution_count": 33,
   "id": "74867426-dd98-46fe-bbc2-5ed86f928dba",
   "metadata": {},
   "outputs": [],
   "source": [
    "#Q6\n",
    "l =['harry potter','mission_impossible','go goa gone']"
   ]
  },
  {
   "cell_type": "code",
   "execution_count": 34,
   "id": "1a4c9115-8666-4c98-9620-58bf29cbad98",
   "metadata": {},
   "outputs": [
    {
     "data": {
      "text/plain": [
       "'Mission_Impossible'"
      ]
     },
     "execution_count": 34,
     "metadata": {},
     "output_type": "execute_result"
    }
   ],
   "source": [
    "l[1].title()"
   ]
  },
  {
   "cell_type": "code",
   "execution_count": 35,
   "id": "074dd2f1-802a-4fe5-b620-b89382cc7d2e",
   "metadata": {},
   "outputs": [],
   "source": [
    "# Q7\n",
    "l =['elephant']"
   ]
  },
  {
   "cell_type": "code",
   "execution_count": 36,
   "id": "ad2ee78e-e386-42e7-b867-2bf2a1758b6c",
   "metadata": {},
   "outputs": [],
   "source": [
    "l2=['tiger']"
   ]
  },
  {
   "cell_type": "code",
   "execution_count": 37,
   "id": "027f076c-17eb-4cfc-bbd8-20edbfe283a7",
   "metadata": {},
   "outputs": [
    {
     "data": {
      "text/plain": [
       "['elephant', 'tiger']"
      ]
     },
     "execution_count": 37,
     "metadata": {},
     "output_type": "execute_result"
    }
   ],
   "source": [
    "l+l2"
   ]
  },
  {
   "cell_type": "code",
   "execution_count": null,
   "id": "f7fc995f-2a37-4b10-94d9-7ba86b0746df",
   "metadata": {},
   "outputs": [],
   "source": [
    "#Q8\n",
    "l =['Goa',Chan]"
   ]
  }
 ],
 "metadata": {
  "kernelspec": {
   "display_name": "Python 3 (ipykernel)",
   "language": "python",
   "name": "python3"
  },
  "language_info": {
   "codemirror_mode": {
    "name": "ipython",
    "version": 3
   },
   "file_extension": ".py",
   "mimetype": "text/x-python",
   "name": "python",
   "nbconvert_exporter": "python",
   "pygments_lexer": "ipython3",
   "version": "3.10.8"
  }
 },
 "nbformat": 4,
 "nbformat_minor": 5
}
